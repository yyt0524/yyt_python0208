{
 "cells": [
  {
   "cell_type": "markdown",
   "id": "b8fea9ad",
   "metadata": {},
   "source": [
    "## Pandas的应用-2\n",
    "\n",
    "### DataFrame的应用\n",
    "\n",
    "#### 创建DataFrame对象\n",
    "\n",
    "##### 通过二维数组创建`DataFrame`对象"
   ]
  },
  {
   "cell_type": "code",
   "execution_count": 2,
   "id": "c18f08d3",
   "metadata": {},
   "outputs": [
    {
     "data": {
      "text/html": [
       "<div>\n",
       "<style scoped>\n",
       "    .dataframe tbody tr th:only-of-type {\n",
       "        vertical-align: middle;\n",
       "    }\n",
       "\n",
       "    .dataframe tbody tr th {\n",
       "        vertical-align: top;\n",
       "    }\n",
       "\n",
       "    .dataframe thead th {\n",
       "        text-align: right;\n",
       "    }\n",
       "</style>\n",
       "<table border=\"1\" class=\"dataframe\">\n",
       "  <thead>\n",
       "    <tr style=\"text-align: right;\">\n",
       "      <th></th>\n",
       "      <th>CH</th>\n",
       "      <th>MATH</th>\n",
       "      <th>EN</th>\n",
       "    </tr>\n",
       "  </thead>\n",
       "  <tbody>\n",
       "    <tr>\n",
       "      <th>1001</th>\n",
       "      <td>83</td>\n",
       "      <td>56</td>\n",
       "      <td>34</td>\n",
       "    </tr>\n",
       "    <tr>\n",
       "      <th>1002</th>\n",
       "      <td>10</td>\n",
       "      <td>82</td>\n",
       "      <td>95</td>\n",
       "    </tr>\n",
       "    <tr>\n",
       "      <th>1003</th>\n",
       "      <td>25</td>\n",
       "      <td>77</td>\n",
       "      <td>24</td>\n",
       "    </tr>\n",
       "    <tr>\n",
       "      <th>1004</th>\n",
       "      <td>67</td>\n",
       "      <td>47</td>\n",
       "      <td>76</td>\n",
       "    </tr>\n",
       "    <tr>\n",
       "      <th>1005</th>\n",
       "      <td>32</td>\n",
       "      <td>91</td>\n",
       "      <td>96</td>\n",
       "    </tr>\n",
       "  </tbody>\n",
       "</table>\n",
       "</div>"
      ],
      "text/plain": [
       "      CH  MATH  EN\n",
       "1001  83    56  34\n",
       "1002  10    82  95\n",
       "1003  25    77  24\n",
       "1004  67    47  76\n",
       "1005  32    91  96"
      ]
     },
     "execution_count": 2,
     "metadata": {},
     "output_type": "execute_result"
    }
   ],
   "source": [
    "import numpy as np\n",
    "import pandas as pd\n",
    "\n",
    "scores = np.random.randint(10, 101, (5, 3))\n",
    "courses = ['CH','MATH','EN']\n",
    "ids = [1001, 1002, 1003, 1004, 1005]\n",
    "df1 = pd.DataFrame(data=scores, columns=courses, index=ids)\n",
    "df1"
   ]
  },
  {
   "cell_type": "markdown",
   "id": "8615e074",
   "metadata": {},
   "source": [
    "##### 通过字典创建`DataFrame`对象"
   ]
  },
  {
   "cell_type": "code",
   "execution_count": 3,
   "id": "afd13928",
   "metadata": {},
   "outputs": [
    {
     "data": {
      "text/html": [
       "<div>\n",
       "<style scoped>\n",
       "    .dataframe tbody tr th:only-of-type {\n",
       "        vertical-align: middle;\n",
       "    }\n",
       "\n",
       "    .dataframe tbody tr th {\n",
       "        vertical-align: top;\n",
       "    }\n",
       "\n",
       "    .dataframe thead th {\n",
       "        text-align: right;\n",
       "    }\n",
       "</style>\n",
       "<table border=\"1\" class=\"dataframe\">\n",
       "  <thead>\n",
       "    <tr style=\"text-align: right;\">\n",
       "      <th></th>\n",
       "      <th>CH</th>\n",
       "      <th>MATH</th>\n",
       "      <th>EN</th>\n",
       "    </tr>\n",
       "  </thead>\n",
       "  <tbody>\n",
       "    <tr>\n",
       "      <th>1001</th>\n",
       "      <td>62</td>\n",
       "      <td>95</td>\n",
       "      <td>66</td>\n",
       "    </tr>\n",
       "    <tr>\n",
       "      <th>1002</th>\n",
       "      <td>72</td>\n",
       "      <td>65</td>\n",
       "      <td>75</td>\n",
       "    </tr>\n",
       "    <tr>\n",
       "      <th>1003</th>\n",
       "      <td>93</td>\n",
       "      <td>86</td>\n",
       "      <td>82</td>\n",
       "    </tr>\n",
       "    <tr>\n",
       "      <th>1004</th>\n",
       "      <td>88</td>\n",
       "      <td>66</td>\n",
       "      <td>69</td>\n",
       "    </tr>\n",
       "    <tr>\n",
       "      <th>1005</th>\n",
       "      <td>93</td>\n",
       "      <td>87</td>\n",
       "      <td>82</td>\n",
       "    </tr>\n",
       "  </tbody>\n",
       "</table>\n",
       "</div>"
      ],
      "text/plain": [
       "      CH  MATH  EN\n",
       "1001  62    95  66\n",
       "1002  72    65  75\n",
       "1003  93    86  82\n",
       "1004  88    66  69\n",
       "1005  93    87  82"
      ]
     },
     "execution_count": 3,
     "metadata": {},
     "output_type": "execute_result"
    }
   ],
   "source": [
    "scores1 = {\n",
    "    'CH':[62, 72, 93, 88, 93],\n",
    "    'MATH':[95, 65, 86, 66, 87],\n",
    "    'EN':[66, 75, 82, 69, 82]\n",
    "}\n",
    "ids1 = [1001, 1002, 1003, 1004, 1005]\n",
    "df2 = pd.DataFrame(data=scores1, index=ids1)\n",
    "df2"
   ]
  },
  {
   "cell_type": "markdown",
   "id": "efe3a1c9",
   "metadata": {},
   "source": [
    "##### 读取 CSV 文件创建`DataFrame`对象\n",
    "\n",
    "可以通过`pandas` 模块的`read_csv`函数来读取 CSV 文件，`read_csv`函数的参数非常多，下面接受几个比较重要的参数。\n",
    "\n",
    "- `sep` / `delimiter`：分隔符，默认是`,`。\n",
    "- `header`：表头（列索引）的位置，默认值是`infer`，用第一行的内容作为表头（列索引）。\n",
    "- `index_col`：用作行索引（标签）的列。\n",
    "- `usecols`：需要加载的列，可以使用序号或者列名。\n",
    "- `true_values` / `false_values`：哪些值被视为布尔值`True` / `False`。\n",
    "- `skiprows`：通过行号、索引或函数指定需要跳过的行。\n",
    "- `skipfooter`：要跳过的末尾行数。\n",
    "- `nrows`：需要读取的行数。\n",
    "- `na_values`：哪些值被视为空值。"
   ]
  },
  {
   "cell_type": "code",
   "execution_count": null,
   "id": "49cd6a01",
   "metadata": {},
   "outputs": [],
   "source": []
  }
 ],
 "metadata": {
  "kernelspec": {
   "display_name": "Python 3 (ipykernel)",
   "language": "python",
   "name": "python3"
  },
  "language_info": {
   "codemirror_mode": {
    "name": "ipython",
    "version": 3
   },
   "file_extension": ".py",
   "mimetype": "text/x-python",
   "name": "python",
   "nbconvert_exporter": "python",
   "pygments_lexer": "ipython3",
   "version": "3.7.0"
  }
 },
 "nbformat": 4,
 "nbformat_minor": 5
}
