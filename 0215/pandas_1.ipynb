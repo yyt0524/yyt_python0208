{
 "cells": [
  {
   "cell_type": "markdown",
   "id": "249aeead",
   "metadata": {},
   "source": [
    "## Pandas的应用-1\n",
    "\n",
    "Pandas是Wes McKinney在2008年开发的一个强大的**分析结构化数据**的工具集。Pandas以NumPy为基础（数据表示和运算），提供了用于数据处理的函数和方法，对数据分析和数据挖掘提供了很好的支持；同时Pandas还可以跟数据可视化工具Matplotlib很好的整合在一起，非常轻松愉快的实现数据的可视化展示。\n",
    "\n",
    "Pandas核心的数据类型是`Series`（数据系列）、`DataFrame`（数据表/数据框），分别用于处理一维和二维的数据，除此之外还有一个名为`Index`的类型及其子类型，它为`Series`和`DataFrame`提供了索引功能。日常工作中以`DataFrame`使用最为广泛，因为二维的数据本质就是一个有行有列的表格（想一想Excel电子表格和关系型数据库中的二维表）。上述这些类型都提供了大量的处理数据的方法，数据分析师可以以此为基础实现对数据的各种常规处理。\n",
    "\n",
    "### Series的应用\n",
    "\n",
    "Pandas库中的`Series`对象可以用来表示一维数据结构，跟数组非常类似，但是多了一些额外的功能。`Series`的内部结构包含了两个数组，其中一个用来保存数据，另一个用来保存数据的索引。\n",
    "\n",
    "#### 创建Series对象\n",
    "\n",
    "> **提示**：在执行下面的代码之前，请先导入`pandas`以及相关的库文件，具体的做法可以参考上一章。\n",
    "\n",
    "##### 方法1：通过列表或数组创建Series对象"
   ]
  },
  {
   "cell_type": "code",
   "execution_count": 29,
   "id": "5eefe973",
   "metadata": {},
   "outputs": [],
   "source": [
    "import pandas as pd\n",
    "import numpy as np"
   ]
  },
  {
   "cell_type": "code",
   "execution_count": 3,
   "id": "9e402b25",
   "metadata": {},
   "outputs": [
    {
     "data": {
      "text/plain": [
       "一季度    320\n",
       "二季度    180\n",
       "三季度    300\n",
       "四季度    405\n",
       "dtype: int64"
      ]
     },
     "execution_count": 3,
     "metadata": {},
     "output_type": "execute_result"
    }
   ],
   "source": [
    "ser1 = pd.Series(data=[320, 180, 300, 405], index=['一季度', '二季度', '三季度', '四季度'])\n",
    "ser1"
   ]
  },
  {
   "cell_type": "markdown",
   "id": "4b3ec3e9",
   "metadata": {},
   "source": [
    "##### 方法2：通过字典创建Series对象。"
   ]
  },
  {
   "cell_type": "code",
   "execution_count": 4,
   "id": "c04178f2",
   "metadata": {},
   "outputs": [
    {
     "data": {
      "text/plain": [
       "一季度    320\n",
       "二季度    180\n",
       "三季度    300\n",
       "四季度    405\n",
       "dtype: int64"
      ]
     },
     "execution_count": 4,
     "metadata": {},
     "output_type": "execute_result"
    }
   ],
   "source": [
    "ser2 = pd.Series({'一季度': 320, '二季度': 180, '三季度': 300, '四季度': 405})\n",
    "ser2"
   ]
  },
  {
   "cell_type": "markdown",
   "id": "a8b3a94d",
   "metadata": {},
   "source": [
    "#### 索引和切片\n",
    "\n",
    "跟数组一样，Series对象也可以进行索引和切片操作，不同的是Series对象因为内部维护了一个保存索引的数组，所以除了可以使用整数索引通过位置检索数据外，还可以通过自己设置的索引标签获取对应的数据。\n",
    "\n",
    "##### 使用整数索引"
   ]
  },
  {
   "cell_type": "code",
   "execution_count": 5,
   "id": "64d4f085",
   "metadata": {},
   "outputs": [
    {
     "name": "stdout",
     "output_type": "stream",
     "text": [
      "320 180 300 405\n",
      "一季度    350\n",
      "二季度    180\n",
      "三季度    300\n",
      "四季度    360\n",
      "dtype: int64\n"
     ]
    }
   ],
   "source": [
    "print(ser2[0], ser2[1], ser2[2], ser2[3])\n",
    "ser2[0], ser2[3] = 350, 360\n",
    "print(ser2)"
   ]
  },
  {
   "cell_type": "markdown",
   "id": "60fb2b34",
   "metadata": {},
   "source": [
    "**提示**：如果要使用负向索引，必须在创建`Series`对象时通过`index`属性指定非数值类型的标签。\n",
    "\n",
    "##### 使用自定义的标签索引"
   ]
  },
  {
   "cell_type": "code",
   "execution_count": 6,
   "id": "56b41b9a",
   "metadata": {},
   "outputs": [
    {
     "name": "stdout",
     "output_type": "stream",
     "text": [
      "350 300\n",
      "一季度    380\n",
      "二季度    180\n",
      "三季度    300\n",
      "四季度    360\n",
      "dtype: int64\n"
     ]
    }
   ],
   "source": [
    "print(ser2['一季度'], ser2['三季度'])\n",
    "ser2['一季度'] = 380\n",
    "print(ser2)"
   ]
  },
  {
   "cell_type": "markdown",
   "id": "d30da4b2",
   "metadata": {},
   "source": [
    "##### 切片操作"
   ]
  },
  {
   "cell_type": "code",
   "execution_count": 7,
   "id": "49f7fcdf",
   "metadata": {},
   "outputs": [
    {
     "name": "stdout",
     "output_type": "stream",
     "text": [
      "二季度    180\n",
      "三季度    300\n",
      "dtype: int64\n",
      "二季度    180\n",
      "三季度    300\n",
      "四季度    360\n",
      "dtype: int64\n"
     ]
    }
   ],
   "source": [
    "print(ser2[1:3])\n",
    "print(ser2['二季度':'四季度'])"
   ]
  },
  {
   "cell_type": "code",
   "execution_count": 8,
   "id": "c6b7e837",
   "metadata": {},
   "outputs": [
    {
     "data": {
      "text/plain": [
       "一季度    380\n",
       "二季度    400\n",
       "三季度    500\n",
       "四季度    360\n",
       "dtype: int64"
      ]
     },
     "execution_count": 8,
     "metadata": {},
     "output_type": "execute_result"
    }
   ],
   "source": [
    "ser2[1:3] = 400, 500\n",
    "ser2"
   ]
  },
  {
   "cell_type": "markdown",
   "id": "bad35d52",
   "metadata": {},
   "source": [
    "##### 花式索引"
   ]
  },
  {
   "cell_type": "code",
   "execution_count": 9,
   "id": "13599400",
   "metadata": {},
   "outputs": [
    {
     "name": "stdout",
     "output_type": "stream",
     "text": [
      "二季度    400\n",
      "四季度    360\n",
      "dtype: int64\n",
      "一季度    380\n",
      "二季度    500\n",
      "三季度    500\n",
      "四季度    520\n",
      "dtype: int64\n"
     ]
    }
   ],
   "source": [
    "print(ser2[['二季度', '四季度']])\n",
    "ser2[['二季度', '四季度']] = 500, 520\n",
    "print(ser2)"
   ]
  },
  {
   "cell_type": "markdown",
   "id": "42be8276",
   "metadata": {},
   "source": [
    "#### 布尔索引"
   ]
  },
  {
   "cell_type": "code",
   "execution_count": 11,
   "id": "171b0a75",
   "metadata": {},
   "outputs": [
    {
     "data": {
      "text/plain": [
       "二季度    500\n",
       "三季度    500\n",
       "四季度    520\n",
       "dtype: int64"
      ]
     },
     "execution_count": 11,
     "metadata": {},
     "output_type": "execute_result"
    }
   ],
   "source": [
    "ser2[ser2 >= 500]"
   ]
  },
  {
   "cell_type": "markdown",
   "id": "992083e8",
   "metadata": {},
   "source": [
    "#### 属性和方法\n",
    "\n",
    "Series对象的常用属性如下表所示。\n",
    "\n",
    "| 属性                      | 说明                                    |\n",
    "| ------------------------- | --------------------------------------- |\n",
    "| `dtype` / `dtypes`        | 返回`Series`对象的数据类型              |\n",
    "| `hasnans`                 | 判断`Series`对象中有没有空值            |\n",
    "| `at` / `iat`              | 通过索引访问`Series`对象中的单个值      |\n",
    "| `loc` / `iloc`            | 通过一组索引访问`Series`对象中的一组值  |\n",
    "| `index`                   | 返回`Series`对象的索引                 |\n",
    "| `is_monotonic`            | 判断`Series`对象中的数据是否单调        |\n",
    "| `is_monotonic_increasing` | 判断`Series`对象中的数据是否单调递增    |\n",
    "| `is_monotonic_decreasing` | 判断`Series`对象中的数据是否单调递减    |\n",
    "| `is_unique`               | 判断`Series`对象中的数据是否独一无二    |\n",
    "| `size`                    | 返回`Series`对象中元素的个数            |\n",
    "| `values`                  | 以`ndarray`的方式返回`Series`对象中的值 |\n",
    "\n",
    "`Series`对象的方法很多，我们通过下面的代码为大家介绍一些常用的方法。\n",
    "\n",
    "##### 统计相关的方法\n",
    "\n",
    "`Series`对象支持各种获取描述性统计信息的方法。"
   ]
  },
  {
   "cell_type": "code",
   "execution_count": 27,
   "id": "516ed89f",
   "metadata": {},
   "outputs": [
    {
     "name": "stdout",
     "output_type": "stream",
     "text": [
      "1900\n",
      "475.0\n",
      "520\n",
      "380\n",
      "4\n",
      "64.03124237432849\n",
      "4100.0\n",
      "500.0\n",
      "int64\n",
      "int64\n",
      "False\n",
      "True\n",
      "False\n",
      "True\n",
      "count      4.000000\n",
      "mean     475.000000\n",
      "std       64.031242\n",
      "min      380.000000\n",
      "25%      470.000000\n",
      "50%      500.000000\n",
      "75%      505.000000\n",
      "max      520.000000\n",
      "dtype: float64\n",
      "[380 500 520]\n",
      "3\n",
      "500    2\n",
      "520    1\n",
      "380    1\n",
      "dtype: int64\n"
     ]
    }
   ],
   "source": [
    "# 求和\n",
    "print(ser2.sum())\n",
    "# 求均值\n",
    "print(ser2.mean())\n",
    "# 求最大\n",
    "print(ser2.max())\n",
    "# 求最小\n",
    "print(ser2.min())\n",
    "# 计数\n",
    "print(ser2.count())\n",
    "# 求标准差\n",
    "print(ser2.std())\n",
    "# 求方差\n",
    "print(ser2.var())\n",
    "# 求中位数\n",
    "print(ser2.median())\n",
    "\n",
    "print(ser2.dtype)\n",
    "print(ser2.dtypes)\n",
    "print(ser2.hasnans)\n",
    "#print(ser2.iat(2))\n",
    "print(ser2.is_monotonic)\n",
    "print(ser2.is_monotonic_decreasing)\n",
    "print(ser2.is_monotonic_increasing)\n",
    "print(ser2.describe())\n",
    "print(ser2.unique())\n",
    "print(ser2.nunique())\n",
    "print(ser2.value_counts())"
   ]
  },
  {
   "cell_type": "markdown",
   "id": "c5efb74d",
   "metadata": {},
   "source": [
    "**提示**：因为`describe()`返回的也是一个`Series`对象，所以也可以用`ser2.describe()['mean']`来获取平均值。\n",
    "\n",
    "如果`Series`对象有重复的值，我们可以使用`unique()`方法获得去重之后的`Series`对象；可以使用`nunique()`方法统计不重复值的数量；如果想要统计每个值重复的次数，可以使用`value_counts()`方法，这个方法会返回一个`Series`对象，它的索引就是原来的`Series`对象中的值，而每个值出现的次数就是返回的`Series`对象中的数据，在默认情况下会按照出现次数做降序排列"
   ]
  },
  {
   "cell_type": "markdown",
   "id": "451f8b4a",
   "metadata": {},
   "source": [
    "##### 数据处理的方法\n",
    "\n",
    "`Series`对象的`isnull()`和`notnull()`方法可以用于空值的判断"
   ]
  },
  {
   "cell_type": "code",
   "execution_count": 30,
   "id": "3141b275",
   "metadata": {},
   "outputs": [
    {
     "data": {
      "text/plain": [
       "0    False\n",
       "1    False\n",
       "2     True\n",
       "3    False\n",
       "4     True\n",
       "dtype: bool"
      ]
     },
     "execution_count": 30,
     "metadata": {},
     "output_type": "execute_result"
    }
   ],
   "source": [
    "ser4 = pd.Series(data=[10, 20, np.NaN, 30, np.NaN])\n",
    "ser4.isnull()"
   ]
  },
  {
   "cell_type": "markdown",
   "id": "f180263c",
   "metadata": {},
   "source": [
    "`Series`对象的`dropna()`和`fillna()`方法分别用来删除空值和填充空值"
   ]
  },
  {
   "cell_type": "code",
   "execution_count": 31,
   "id": "bd69005f",
   "metadata": {},
   "outputs": [
    {
     "data": {
      "text/plain": [
       "0    10.0\n",
       "1    20.0\n",
       "3    30.0\n",
       "dtype: float64"
      ]
     },
     "execution_count": 31,
     "metadata": {},
     "output_type": "execute_result"
    }
   ],
   "source": [
    "ser4.dropna()"
   ]
  },
  {
   "cell_type": "code",
   "execution_count": 34,
   "id": "05127efa",
   "metadata": {},
   "outputs": [
    {
     "data": {
      "text/plain": [
       "0    10.0\n",
       "1    20.0\n",
       "2    33.0\n",
       "3    30.0\n",
       "4    33.0\n",
       "dtype: float64"
      ]
     },
     "execution_count": 34,
     "metadata": {},
     "output_type": "execute_result"
    }
   ],
   "source": [
    "ser4.fillna(value=33)"
   ]
  },
  {
   "cell_type": "code",
   "execution_count": 35,
   "id": "7a148fbc",
   "metadata": {},
   "outputs": [
    {
     "data": {
      "text/plain": [
       "0    10.0\n",
       "1    20.0\n",
       "2    20.0\n",
       "3    30.0\n",
       "4    30.0\n",
       "dtype: float64"
      ]
     },
     "execution_count": 35,
     "metadata": {},
     "output_type": "execute_result"
    }
   ],
   "source": [
    "# backfill或bfill表示用后一个元素的值填充空值\n",
    "# ffill或pad表示用前一个元素的值填充空值\n",
    "ser4.fillna(method='ffill')"
   ]
  },
  {
   "cell_type": "markdown",
   "id": "0bd1ebc0",
   "metadata": {},
   "source": [
    "需要提醒大家注意的是，`dropna()`和`fillna()`方法都有一个名为`inplace`的参数，它的默认值是`False`，表示删除空值或填充空值不会修改原来的`Series`对象，而是返回一个新的`Series`对象来表示删除或填充空值后的数据系列，如果将`inplace`参数的值修改为`True`，那么删除或填充空值会就地操作，直接修改原来的`Series`对象，那么方法的返回值是`None`。后面我们会接触到的很多方法，包括`DataFrame`对象的很多方法都会有这个参数，它们的意义跟这里是一样的。\n",
    "\n",
    "`Series`对象的`mask()`和`where()`方法可以将满足或不满足条件的值进行替换"
   ]
  },
  {
   "cell_type": "code",
   "execution_count": 39,
   "id": "6a25711d",
   "metadata": {},
   "outputs": [
    {
     "name": "stdout",
     "output_type": "stream",
     "text": [
      "0    0\n",
      "1    1\n",
      "2    2\n",
      "3    3\n",
      "4    4\n",
      "dtype: int64\n",
      "0    20\n",
      "1    20\n",
      "2     2\n",
      "3     3\n",
      "4     4\n",
      "dtype: int64\n"
     ]
    },
    {
     "data": {
      "text/plain": [
       "0     0\n",
       "1     1\n",
       "2    20\n",
       "3    20\n",
       "4    20\n",
       "dtype: int64"
      ]
     },
     "execution_count": 39,
     "metadata": {},
     "output_type": "execute_result"
    }
   ],
   "source": [
    "ser5 = pd.Series(range(5))\n",
    "print(ser5)\n",
    "print(ser5.where(ser5>1, 20))\n",
    "ser5.mask(ser5>1, 20)\n"
   ]
  },
  {
   "cell_type": "markdown",
   "id": "35976cad",
   "metadata": {},
   "source": [
    "`Series`对象的`duplicated()`方法可以帮助我们找出重复的数据，而`drop_duplicates()`方法可以帮我们删除重复数据"
   ]
  },
  {
   "cell_type": "code",
   "execution_count": 42,
   "id": "a9a6e524",
   "metadata": {},
   "outputs": [
    {
     "data": {
      "text/plain": [
       "0    False\n",
       "1     True\n",
       "2    False\n",
       "3    False\n",
       "4    False\n",
       "dtype: bool"
      ]
     },
     "execution_count": 42,
     "metadata": {},
     "output_type": "execute_result"
    }
   ],
   "source": [
    "ser5.where(ser5>1, 10, inplace=True)\n",
    "ser5.duplicated()"
   ]
  },
  {
   "cell_type": "code",
   "execution_count": 45,
   "id": "80e23556",
   "metadata": {},
   "outputs": [
    {
     "name": "stdout",
     "output_type": "stream",
     "text": [
      "0    10\n",
      "2     2\n",
      "3     3\n",
      "4     4\n",
      "dtype: int64\n"
     ]
    }
   ],
   "source": [
    "ser5.drop_duplicates(inplace=True)\n",
    "print(ser5)"
   ]
  },
  {
   "cell_type": "markdown",
   "id": "4ed038c4",
   "metadata": {},
   "source": [
    "`Series`对象的`apply()`和`map()`方法非常重要，它们可以用于数据处理，把数据映射或转换成我们期望的样子，这个操作在数据分析的数据准备阶段非常重要"
   ]
  },
  {
   "cell_type": "code",
   "execution_count": 46,
   "id": "52563a60",
   "metadata": {},
   "outputs": [
    {
     "data": {
      "text/plain": [
       "0       cat\n",
       "1       dog\n",
       "2       NaN\n",
       "3    rabbit\n",
       "dtype: object"
      ]
     },
     "execution_count": 46,
     "metadata": {},
     "output_type": "execute_result"
    }
   ],
   "source": [
    "ser6 = pd.Series(['cat', 'dog', np.nan, 'rabbit'])\n",
    "ser6"
   ]
  },
  {
   "cell_type": "code",
   "execution_count": 48,
   "id": "dff933fc",
   "metadata": {},
   "outputs": [
    {
     "data": {
      "text/plain": [
       "0    kitten\n",
       "1     puppy\n",
       "2       NaN\n",
       "3       NaN\n",
       "dtype: object"
      ]
     },
     "execution_count": 48,
     "metadata": {},
     "output_type": "execute_result"
    }
   ],
   "source": [
    "ser6.map({'cat': 'kitten', 'dog': 'puppy'})"
   ]
  },
  {
   "cell_type": "code",
   "execution_count": 49,
   "id": "6ab991ad",
   "metadata": {},
   "outputs": [
    {
     "data": {
      "text/plain": [
       "0       I am a cat\n",
       "1       I am a dog\n",
       "2              NaN\n",
       "3    I am a rabbit\n",
       "dtype: object"
      ]
     },
     "execution_count": 49,
     "metadata": {},
     "output_type": "execute_result"
    }
   ],
   "source": [
    "ser6.map('I am a {}'.format, na_action='ignore')"
   ]
  },
  {
   "cell_type": "code",
   "execution_count": 52,
   "id": "d04a01fa",
   "metadata": {},
   "outputs": [
    {
     "name": "stdout",
     "output_type": "stream",
     "text": [
      "London      20\n",
      "New York    12\n",
      "Helsinki    21\n",
      "dtype: int64\n"
     ]
    },
    {
     "data": {
      "text/plain": [
       "London      4.472136\n",
       "New York    3.464102\n",
       "Helsinki    4.582576\n",
       "dtype: float64"
      ]
     },
     "execution_count": 52,
     "metadata": {},
     "output_type": "execute_result"
    }
   ],
   "source": [
    "ser7 = pd.Series([20, 12, 21], index=['London', 'New York', 'Helsinki'])\n",
    "print(ser7)\n",
    "ser7.apply(np.sqrt)"
   ]
  },
  {
   "cell_type": "code",
   "execution_count": 53,
   "id": "33ec9de0",
   "metadata": {},
   "outputs": [
    {
     "data": {
      "text/plain": [
       "London      15\n",
       "New York     7\n",
       "Helsinki    16\n",
       "dtype: int64"
      ]
     },
     "execution_count": 53,
     "metadata": {},
     "output_type": "execute_result"
    }
   ],
   "source": [
    "ser7.apply(lambda x, value: x - value, args=(5,))"
   ]
  },
  {
   "cell_type": "markdown",
   "id": "6738d98f",
   "metadata": {},
   "source": [
    "##### 排序和取头部值的方法\n",
    "\n",
    "`Series`对象的`sort_index()`和`sort_values()`方法可以用于对索引和数据的排序，排序方法有一个名为`ascending`的布尔类型参数，该参数用于控制排序的结果是升序还是降序；而名为`kind`的参数则用来控制排序使用的算法，默认使用了`quicksort`，也可以选择`mergesort`或`heapsort`；如果存在空值，那么可以用`na_position`参数空值放在最前还是最后，默认是`last`"
   ]
  },
  {
   "cell_type": "code",
   "execution_count": 54,
   "id": "feb8bb7c",
   "metadata": {},
   "outputs": [
    {
     "data": {
      "text/plain": [
       "Helsinki    21\n",
       "London      20\n",
       "New York    12\n",
       "dtype: int64"
      ]
     },
     "execution_count": 54,
     "metadata": {},
     "output_type": "execute_result"
    }
   ],
   "source": [
    "ser7.sort_index(ascending=True)"
   ]
  },
  {
   "cell_type": "code",
   "execution_count": 55,
   "id": "995c7673",
   "metadata": {},
   "outputs": [
    {
     "data": {
      "text/plain": [
       "New York    12\n",
       "London      20\n",
       "Helsinki    21\n",
       "dtype: int64"
      ]
     },
     "execution_count": 55,
     "metadata": {},
     "output_type": "execute_result"
    }
   ],
   "source": [
    "ser7.sort_index(ascending=False)"
   ]
  },
  {
   "cell_type": "code",
   "execution_count": 56,
   "id": "4ceab486",
   "metadata": {},
   "outputs": [
    {
     "data": {
      "text/plain": [
       "Helsinki    21\n",
       "London      20\n",
       "New York    12\n",
       "dtype: int64"
      ]
     },
     "execution_count": 56,
     "metadata": {},
     "output_type": "execute_result"
    }
   ],
   "source": [
    "ser7.sort_values(ascending=False)"
   ]
  },
  {
   "cell_type": "markdown",
   "id": "7c11e8a3",
   "metadata": {},
   "source": [
    "如果要从`Series`对象中找出元素中最大或最小的“Top-N”，实际上是不需要对所有的值进行排序的，可以使用`nlargest()`和`nsmallest()`方法来完成"
   ]
  },
  {
   "cell_type": "code",
   "execution_count": 57,
   "id": "f5fe5066",
   "metadata": {},
   "outputs": [
    {
     "data": {
      "text/plain": [
       "Helsinki    21\n",
       "London      20\n",
       "dtype: int64"
      ]
     },
     "execution_count": 57,
     "metadata": {},
     "output_type": "execute_result"
    }
   ],
   "source": [
    "ser7.nlargest(2)"
   ]
  },
  {
   "cell_type": "markdown",
   "id": "bbb04c33",
   "metadata": {},
   "source": [
    "#### 绘制图表\n",
    "\n",
    "Series对象有一个名为`plot`的方法可以用来生成图表，如果选择生成折线图、饼图、柱状图等，默认会使用Series对象的索引作为横坐标，使用Series对象的数据作为纵坐标。\n",
    "\n",
    "首先导入`matplotlib`中`pyplot`模块并进行必要的配置"
   ]
  },
  {
   "cell_type": "code",
   "execution_count": 60,
   "id": "4f408220",
   "metadata": {},
   "outputs": [],
   "source": [
    "import matplotlib.pyplot as plt\n",
    "plt.rcParams['font.sans-serif'] = ['SimHei', ]\n",
    "plt.rcParams['axes.unicode_minus'] = False"
   ]
  },
  {
   "cell_type": "code",
   "execution_count": 71,
   "id": "73f4c336",
   "metadata": {},
   "outputs": [
    {
     "data": {
      "image/png": "[encoded data removed]",
      "text/plain": [
       "<Figure size 432x288 with 1 Axes>"
      ]
     },
     "metadata": {
      "needs_background": "light"
     },
     "output_type": "display_data"
    }
   ],
   "source": [
    "ser9 = pd.Series({'一季度': 400, '二季度': 520, '三季度': 180, '四季度': 380})\n",
    "ser9.plot(kind='bar', color=['r', 'g', 'b', 'y'])\n",
    "plt.xticks(rotation=0)\n",
    "for i in range(4):\n",
    "    plt.text(i, ser9[i]+5, ser9[i], ha='center')\n",
    "plt.show()"
   ]
  },
  {
   "cell_type": "code",
   "execution_count": 72,
   "id": "0d9f98e5",
   "metadata": {},
   "outputs": [
    {
     "data": {
      "image/png": "[encoded data removed]",
      "text/plain": [
       "<Figure size 432x288 with 1 Axes>"
      ]
     },
     "metadata": {},
     "output_type": "display_data"
    }
   ],
   "source": [
    "ser9.plot(kind='pie', autopct='%.1f%%')\n",
    "plt.ylabel('xxxx')\n",
    "plt.show()"
   ]
  },
  {
   "cell_type": "code",
   "execution_count": 73,
   "id": "b2331c99",
   "metadata": {},
   "outputs": [],
   "source": [
    "ser9.plot?"
   ]
  },
  {
   "cell_type": "code",
   "execution_count": null,
   "id": "8dc8fc08",
   "metadata": {},
   "outputs": [],
   "source": []
  }
 ],
 "metadata": {
  "kernelspec": {
   "display_name": "Python 3 (ipykernel)",
   "language": "python",
   "name": "python3"
  },
  "language_info": {
   "codemirror_mode": {
    "name": "ipython",
    "version": 3
   },
   "file_extension": ".py",
   "mimetype": "text/x-python",
   "name": "python",
   "nbconvert_exporter": "python",
   "pygments_lexer": "ipython3",
   "version": "3.7.0"
  }
 },
 "nbformat": 4,
 "nbformat_minor": 5
}
