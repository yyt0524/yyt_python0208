{
 "cells": [
  {
   "cell_type": "markdown",
   "id": "4d125962",
   "metadata": {},
   "source": [
    "### 数组的运算\n",
    "\n",
    "使用 NumPy 最为方便的是当需要对数组元素进行运算时，不用编写循环代码遍历每个元素，所有的运算都会自动的**矢量化**（使用高效的提前编译的底层语言代码来对数据序列进行数学操作）。简单的说就是，NumPy 中的数学运算和数学函数会自动作用于数组中的每个成员。\n",
    "\n",
    "#### 数组跟标量的运算"
   ]
  },
  {
   "cell_type": "code",
   "execution_count": 2,
   "id": "a9cf9802",
   "metadata": {},
   "outputs": [
    {
     "name": "stdout",
     "output_type": "stream",
     "text": [
      "[11 12 13 14 15 16 17 18 19]\n",
      "[10 20 30 40 50 60 70 80 90]\n"
     ]
    }
   ],
   "source": [
    "import numpy as np\n",
    "import pandas as pd\n",
    "import matplotlib.pyplot as plt\n",
    "\n",
    "array35 = np.arange(1, 10)\n",
    "print(array35 + 10)\n",
    "print(array35 * 10)"
   ]
  },
  {
   "cell_type": "markdown",
   "id": "da74515d",
   "metadata": {},
   "source": [
    "#### 数组跟数组的运算"
   ]
  },
  {
   "cell_type": "code",
   "execution_count": 4,
   "id": "807a5474",
   "metadata": {},
   "outputs": [
    {
     "name": "stdout",
     "output_type": "stream",
     "text": [
      "[1 2 3 4 5 6 7 8 9]\n",
      "[ 2  3  4  6  7  8 10 11 12]\n",
      "[ 1  2  3  8 10 12 21 24 27]\n",
      "[  1   2   3  16  25  36 343 512 729]\n"
     ]
    }
   ],
   "source": [
    "array36 = np.array([1, 1, 1, 2, 2, 2, 3, 3, 3])\n",
    "print(array35)\n",
    "print(array35 + array36)\n",
    "print(array35 * array36)\n",
    "print(array35 ** array36)"
   ]
  },
  {
   "cell_type": "markdown",
   "id": "964d71af",
   "metadata": {},
   "source": [
    "#### 通用一元函数\n",
    "\n",
    "通用函数是对`ndarray`中的数据执行元素级运算的函数。\n",
    "你可以将其看做普通函数（接收一个标量值作为参数，返回一个标量值）\n",
    "的矢量化包装器，如下所示。"
   ]
  },
  {
   "cell_type": "code",
   "execution_count": 5,
   "id": "e4170d3e",
   "metadata": {},
   "outputs": [
    {
     "name": "stdout",
     "output_type": "stream",
     "text": [
      "[1.         1.41421356 1.73205081 2.         2.23606798 2.44948974\n",
      " 2.64575131 2.82842712 3.        ]\n",
      "[0.         1.         1.5849625  2.         2.32192809 2.5849625\n",
      " 2.80735492 3.         3.169925  ]\n"
     ]
    }
   ],
   "source": [
    "print(np.sqrt(array35))\n",
    "print(np.log2(array35))"
   ]
  },
  {
   "cell_type": "markdown",
   "id": "892b1aa1",
   "metadata": {},
   "source": [
    "**表1：通用一元函数**\n",
    "\n",
    "| 函数                             | 说明                                          |\n",
    "| -------------------------------- | --------------------------------------------- |\n",
    "| `abs` / `fabs`                   | 求绝对值的函数                                |\n",
    "| `sqrt`                           | 求平方根的函数，相当于`array ** 0.5 `         |\n",
    "| `square`                         | 求平方的函数，相当于`array ** 2`              |\n",
    "| `exp`                            | 计算$e^x$的函数                               |\n",
    "| `log` / `log10` / `log2`         | 对数函数（`e`为底 / `10`为底 / `2`为底）      |\n",
    "| `sign`                           | 符号函数（`1` - 正数；`0` - 零；`-1` - 负数） |\n",
    "| `ceil` / `floor`                 | 上取整 /  下取整                              |\n",
    "| `isnan`                          | 返回布尔数组，NaN对应`True`，非NaN对应`False` |\n",
    "| `isfinite` / `isinf`             | 判断数值是否为无穷大的函数                    |\n",
    "| `cos` / `cosh` / `sin`           | 三角函数                                      |\n",
    "| `sinh` / `tan` / `tanh`          | 三角函数                                      |\n",
    "| `arccos` / `arccosh` / `arcsin`  | 反三角函数                                    |\n",
    "| `arcsinh` / `arctan` / `arctanh` | 反三角函数                                    |\n",
    "| `rint` / `round`                 | 四舍五入函数                                  |"
   ]
  },
  {
   "cell_type": "markdown",
   "id": "7f981a43",
   "metadata": {},
   "source": [
    "#### 通用二元函数"
   ]
  },
  {
   "cell_type": "code",
   "execution_count": 7,
   "id": "adcb5ab6",
   "metadata": {},
   "outputs": [
    {
     "name": "stdout",
     "output_type": "stream",
     "text": [
      "[[  4  25 216]\n",
      " [343  64   9]]\n",
      "[[  4  25 216]\n",
      " [343  64   9]]\n"
     ]
    }
   ],
   "source": [
    "array37 = np.array([[4, 5, 6], [7, 8, 9]])\n",
    "array38 = np.array([[1, 2, 3], [3, 2, 1]])\n",
    "print(array37 ** array38)\n",
    "print(np.power(array37, array38))"
   ]
  },
  {
   "cell_type": "markdown",
   "id": "a5db9901",
   "metadata": {},
   "source": [
    "**表2：通用二元函数**\n",
    "\n",
    "| 函数                              | 说明 |\n",
    "| --------------------------------- | ---- |\n",
    "| `add(x, y)` / `substract(x, y)` | 加法函数 / 减法函数 |\n",
    "|`multiply(x, y)` / `divide(x, y)`|乘法函数 / 除法函数|\n",
    "| `floor_divide(x, y)` / `mod(x, y)` | 整除函数 / 求模函数 |\n",
    "|`allclose(x, y)`|检查数组`x`和`y`元素是否几乎相等|\n",
    "| `power(x, y)`                     | 数组$x$的元素$x_i$和数组$y$的元素$y_i$，计算$x_i^{y_i}$ |\n",
    "| `maximum(x, y)` / `fmax(x, y)`   | 两两比较元素获取最大值 / 获取最大值（忽略NaN） |\n",
    "| `minimum(x, y)` / `fmin(x, y)`    | 两两比较元素获取最小值 / 获取最小值（忽略NaN） |\n",
    "| `inner(x, y)` | 内积运算 |\n",
    "| `cross(x, y) `/ `outer(x, y)` | 叉积运算 / 外积运算 |\n",
    "| `intersect1d(x, y)` | 计算`x`和`y`的交集，返回这些元素构成的有序数组        |\n",
    "| `union1d(x, y)`     | 计算`x`和`y`的并集，返回这些元素构成的有序数组        |\n",
    "| `in1d(x, y)`        | 返回由判断`x` 的元素是否在`y`中得到的布尔值构成的数组 |\n",
    "| `setdiff1d(x, y)`   | 计算`x`和`y`的差集，返回这些元素构成的数组            |\n",
    "| `setxor1d(x, y)`    | 计算`x`和`y`的对称差，返回这些元素构成的数组          |"
   ]
  },
  {
   "cell_type": "markdown",
   "id": "fac74769",
   "metadata": {},
   "source": [
    "**补充说明**：在二维空间内，两个向量$\\boldsymbol{A}=\\begin{bmatrix} a_1 \\\\ a_2 \\end{bmatrix}$和$\\boldsymbol{B}=\\begin{bmatrix} b_1 \\\\ b_2 \\end{bmatrix}$的叉积是这样定义的：$\\boldsymbol{A}\\times \\boldsymbol{B}=\\begin{vmatrix} a_1 \\quad a_2 \\\\ b_1 \\quad b_2 \\end{vmatrix}=a_1b_2 - a_2b_1$，其中$\\begin{vmatrix} a_1 \\quad a_2 \\\\ b_1 \\quad b_2 \\end{vmatrix}$称为行列式。但是一定要注意，叉积并不等同于行列式，行列式的运算结果是一个标量，而叉积运算的结果是一个向量。如果不明白，我们可以看看三维空间两个向量，$\\boldsymbol{A}=\\begin{bmatrix} a_1 \\\\ a_2 \\\\ a_3 \\end{bmatrix}$和$\\boldsymbol{B}=\\begin{bmatrix} b_1 \\\\ b_2 \\\\ b_3 \\end{bmatrix}$的叉积是$\\left< \\hat{i} \\begin{vmatrix} a_2 \\quad a_3 \\\\ b_2 \\quad b_3 \\end{vmatrix}, -\\hat{j} \\begin{vmatrix} a_1 \\quad a_3 \\\\ b_1 \\quad b_3 \\end{vmatrix}, \\hat{k} \\begin{vmatrix} a_1 \\quad a_2 \\\\ b_1 \\quad b_2 \\end{vmatrix} \\right>$，其中$\\hat{i}, \\hat{j}, \\hat{k}$代表每个维度的单位向量。"
   ]
  },
  {
   "cell_type": "markdown",
   "id": "f7bca88f",
   "metadata": {},
   "source": [
    "#### 广播机制\n",
    "\n",
    "上面的例子中，两个二元运算的数组形状是完全相同的，我们再来研究一下，两个形状不同的数组是否可以直接做二元运算或使用二元函数进行运算，请看下面的例子。"
   ]
  },
  {
   "cell_type": "code",
   "execution_count": 9,
   "id": "573fc105",
   "metadata": {},
   "outputs": [
    {
     "data": {
      "text/plain": [
       "array([[1, 2, 3],\n",
       "       [2, 3, 4],\n",
       "       [3, 4, 5],\n",
       "       [4, 5, 6]])"
      ]
     },
     "execution_count": 9,
     "metadata": {},
     "output_type": "execute_result"
    }
   ],
   "source": [
    "array39 = np.array([[0, 0, 0], [1, 1, 1], [2, 2, 2], [3, 3, 3]])\n",
    "array40 = np.array([1, 2, 3])\n",
    "array39 + array40"
   ]
  },
  {
   "cell_type": "code",
   "execution_count": 10,
   "id": "8eff9a6e",
   "metadata": {},
   "outputs": [
    {
     "data": {
      "text/plain": [
       "array([[1, 1, 1],\n",
       "       [3, 3, 3],\n",
       "       [5, 5, 5],\n",
       "       [7, 7, 7]])"
      ]
     },
     "execution_count": 10,
     "metadata": {},
     "output_type": "execute_result"
    }
   ],
   "source": [
    "array41 = np.array([[1], [2], [3], [4]])\n",
    "array39 + array41"
   ]
  },
  {
   "cell_type": "markdown",
   "id": "4ea1b66d",
   "metadata": {},
   "source": [
    "通过上面的例子，我们发现形状不同的数组仍然有机会进行二元运算，但也绝对不是任意的数组都可以进行二元运算。简单的说，只有两个数组后缘维度相同或者其中一个数组后缘维度为1时，广播机制会被触发，而通过广播机制如果能够使两个数组的形状一致，才能进行二元运算。所谓后缘维度，指的是数组`shape`属性对应的元组中最后一个元素的值（从后往前数最后一个维度的值），例如，我们之前打开的图像对应的数组后缘维度为3，3行4列的二维数组后缘维度为4，而有5个元素的一维数组后缘维度为5。简单的说就是，后缘维度相同或者其中一个数组的后缘维度为1，就可以应用广播机制；而广播机制如果能够使得数组的形状一致，就满足了两个数组对应元素做运算的需求"
   ]
  },
  {
   "cell_type": "markdown",
   "id": "aab5b936",
   "metadata": {},
   "source": [
    "![](https://gitee.com/jackfrued/mypic/raw/master/20211005115640.png)\n",
    "\n",
    "![](https://gitee.com/jackfrued/mypic/raw/master/20211005115658.png)\n",
    "\n",
    "![](https://gitee.com/jackfrued/mypic/raw/master/20211005115800.png)"
   ]
  },
  {
   "cell_type": "markdown",
   "id": "d7b3405e",
   "metadata": {},
   "source": [
    "**表3：NumPy其他常用函数**\n",
    "\n",
    "| 函数                | 说明                                             |\n",
    "| ------------------- | ------------------------------------------------ |\n",
    "| `unique`         | 去除数组重复元素，返回唯一元素构成的有序数组  |\n",
    "| `copy`           | 返回拷贝数组得到的数组                        |\n",
    "| `sort`           | 返回数组元素排序后的拷贝                      |\n",
    "| `split` / `hsplit` / `vsplit` | 将数组拆成若干个子数组                           |\n",
    "| `stack` / `hstack` / `vstack` | 将多个数组堆叠成新数组                |\n",
    "| `concatenate`       | 沿着指定的轴连接多个数组构成新数组               |\n",
    "| `append` / `insert` | 向数组末尾追加元素 / 在数组指定位置插入元素                 |\n",
    "| `argwhere`          | 找出数组中非0元素的位置                          |\n",
    "| `extract` / `select` / `where` | 按照指定的条件从数组中抽取或处理数组元素       |\n",
    "| `flip`              | 沿指定的轴翻转数组中的元素                       |\n",
    "| `fromiter`          | 通过迭代器创建数组对象                           |\n",
    "| `fromregex`         | 通过读取文件和正则表达式解析获取数据创建数组对象 |\n",
    "| `repeat` / `tile` | 通过对元素的重复来创建新数组 |\n",
    "| `roll` | 沿指定轴对数组元素进行移位 |\n",
    "| `resize` | 重新调整数组的大小 |\n",
    "| `place` / `put` | 将数组中满足条件的元素/指定的元素替换为指定的值 |\n",
    "| `ptp` | 沿指定的轴计算极差（最大值与最小值的差） |\n",
    "| `median` | 沿指定轴计算中位数 |\n",
    "| `partition` | 用选定的元素对数组进行一次划分并返回划分后的数组 |\n",
    "\n",
    "> **提示**：上面的`resize`函数和`ndarray`对象的`resize`方法是有区别的，`resize`函数在调整数组大小时会重复数组中的元素作为填补多出来的元素的值，而`ndarry`对象的`resize`方法是用0来填补多出来的元素。这些小细节不清楚暂时也不要紧，但是如果用到对应的功能了就要引起注意。"
   ]
  },
  {
   "cell_type": "code",
   "execution_count": 11,
   "id": "f68471ac",
   "metadata": {},
   "outputs": [
    {
     "data": {
      "text/plain": [
       "array([[1, 1, 1, 4, 4, 4],\n",
       "       [2, 2, 2, 5, 5, 5],\n",
       "       [3, 3, 3, 6, 6, 6]])"
      ]
     },
     "execution_count": 11,
     "metadata": {},
     "output_type": "execute_result"
    }
   ],
   "source": [
    "array42 = np.array([[1, 1, 1], [2, 2, 2], [3, 3, 3]])\n",
    "array43 = np.array([[4, 4, 4], [5, 5, 5], [6, 6, 6]])\n",
    "np.hstack((array42, array43))"
   ]
  },
  {
   "cell_type": "code",
   "execution_count": 12,
   "id": "7d959880",
   "metadata": {},
   "outputs": [
    {
     "data": {
      "text/plain": [
       "array([[1, 1, 1],\n",
       "       [2, 2, 2],\n",
       "       [3, 3, 3],\n",
       "       [4, 4, 4],\n",
       "       [5, 5, 5],\n",
       "       [6, 6, 6]])"
      ]
     },
     "execution_count": 12,
     "metadata": {},
     "output_type": "execute_result"
    }
   ],
   "source": [
    "np.vstack((array42, array43))"
   ]
  },
  {
   "cell_type": "code",
   "execution_count": 13,
   "id": "55b506a6",
   "metadata": {},
   "outputs": [
    {
     "data": {
      "text/plain": [
       "array([[1, 1, 1],\n",
       "       [2, 2, 2],\n",
       "       [3, 3, 3],\n",
       "       [4, 4, 4],\n",
       "       [5, 5, 5],\n",
       "       [6, 6, 6]])"
      ]
     },
     "execution_count": 13,
     "metadata": {},
     "output_type": "execute_result"
    }
   ],
   "source": [
    "np.concatenate((array42, array43))"
   ]
  },
  {
   "cell_type": "code",
   "execution_count": 15,
   "id": "2cc83702",
   "metadata": {},
   "outputs": [
    {
     "data": {
      "text/plain": [
       "array([[1, 1, 1, 4, 5, 6],\n",
       "       [2, 2, 2, 4, 5, 6],\n",
       "       [3, 3, 3, 4, 5, 6]])"
      ]
     },
     "execution_count": 15,
     "metadata": {},
     "output_type": "execute_result"
    }
   ],
   "source": [
    "np.concatenate((array42, array43.T), axis=1)"
   ]
  },
  {
   "cell_type": "markdown",
   "id": "d1ba5e82",
   "metadata": {},
   "source": [
    "### 矩阵运算\n",
    "\n",
    "NumPy 中提供了专门用于线性代数（linear algebra）的模块和表示矩阵的类型`matrix`，当然我们通过二维数组也可以表示一个矩阵，官方并不推荐使用`matrix`类而是建议使用二维数组，而且有可能在将来的版本中会移除`matrix`类。无论如何，利用这些已经封装好的类和函数，我们可以轻松愉快的实现线性代数中很多的操作。"
   ]
  },
  {
   "cell_type": "markdown",
   "id": "0eb90229",
   "metadata": {},
   "source": [
    "#### 线性代数快速回顾\n",
    "\n",
    "1. **向量**也叫**矢量**，是一个同时具有大小和方向，且满足平行四边形法则的几何对象。与向量相对的概念叫**标量**或**数量**，标量只有大小、绝大多数情况下没有方向。\n",
    "2. 向量可以进行**加**、**减**、**数乘**、**点积**、**叉积**等运算。\n",
    "3. **行列式**由向量组成，它的性质可以由向量解释。\n",
    "4. 行列式可以使用**行列式公式**计算：$det(\\boldsymbol{A})=\\sum_{n!} \\pm {a_{1\\alpha}a_{2\\beta} \\cdots a_{n\\omega}}$。\n",
    "5. 高阶行列式可以用**代数余子式**展开成多个低阶行列式，如：$det(\\boldsymbol{A})=a_{11}C_{11}+a_{12}C_{12}+ \\cdots +a_{1n}C_{1n}$。\n",
    "6. **矩阵**是由一系列元素排成的矩形阵列，矩阵里的元素可以是数字、符号或数学公式。\n",
    "7. 矩阵可以进行**加法**、**减法**、**数乘**、**乘法**、**转置**等运算。\n",
    "8. **逆矩阵**用$\\boldsymbol{A^{-1}}$表示，$\\boldsymbol{A}\\boldsymbol{A^{-1}}=\\boldsymbol{A^{-1}}\\boldsymbol{A}=\\boldsymbol{I}$；没有逆矩阵的方阵是**奇异矩阵**。\n",
    "9. 如果一个方阵是**满秩矩阵**(矩阵的秩等于矩阵的阶数)，该方阵对应的线性方程有唯一解。\n",
    "\n",
    "> **说明**：**矩阵的秩**是指矩阵中线性无关的行/列向量的最大个数，同时也是矩阵对应的线性变换的像空间的维度。"
   ]
  },
  {
   "cell_type": "markdown",
   "id": "9ac6d870",
   "metadata": {},
   "source": [
    "#### 1. 创建矩阵对象"
   ]
  },
  {
   "cell_type": "code",
   "execution_count": 19,
   "id": "58d46722",
   "metadata": {},
   "outputs": [
    {
     "data": {
      "text/plain": [
       "matrix([[1, 2, 3],\n",
       "        [4, 5, 6]])"
      ]
     },
     "execution_count": 19,
     "metadata": {},
     "output_type": "execute_result"
    }
   ],
   "source": [
    "# matrix构造函数可以传入类数组对象也可以传入字符串\n",
    "m1 = np.matrix('1,2,3;4,5,6')\n",
    "m1"
   ]
  },
  {
   "cell_type": "code",
   "execution_count": 20,
   "id": "2c3c8e85",
   "metadata": {},
   "outputs": [
    {
     "data": {
      "text/plain": [
       "matrix([[1, 2, 3, 4, 5, 6]])"
      ]
     },
     "execution_count": 20,
     "metadata": {},
     "output_type": "execute_result"
    }
   ],
   "source": [
    "m2 = np.matrix([1,2,3,4,5,6])\n",
    "m2"
   ]
  },
  {
   "cell_type": "code",
   "execution_count": 23,
   "id": "53b59d92",
   "metadata": {},
   "outputs": [
    {
     "data": {
      "text/plain": [
       "matrix([[1, 2, 3],\n",
       "        [4, 5, 6]])"
      ]
     },
     "execution_count": 23,
     "metadata": {},
     "output_type": "execute_result"
    }
   ],
   "source": [
    "m3 = np.matrix([[1,2,3],[4,5,6]])\n",
    "m3"
   ]
  },
  {
   "cell_type": "code",
   "execution_count": 24,
   "id": "cefbfe4b",
   "metadata": {},
   "outputs": [
    {
     "data": {
      "text/plain": [
       "matrix([[1, 2, 3],\n",
       "        [4, 5, 6]])"
      ]
     },
     "execution_count": 24,
     "metadata": {},
     "output_type": "execute_result"
    }
   ],
   "source": [
    "# asmatrix函数也可以写成mat函数，它们其实是同一个函数\n",
    "m4 = np.asmatrix([[1,2,3],[4,5,6]])\n",
    "m4"
   ]
  },
  {
   "cell_type": "code",
   "execution_count": 25,
   "id": "2d4ddb54",
   "metadata": {},
   "outputs": [
    {
     "ename": "ValueError",
     "evalue": "shapes (2,3) and (2,3) not aligned: 3 (dim 1) != 2 (dim 0)",
     "output_type": "error",
     "traceback": [
      "\u001b[1;31m---------------------------------------------------------------------------\u001b[0m",
      "\u001b[1;31mValueError\u001b[0m                                Traceback (most recent call last)",
      "\u001b[1;32m~\\AppData\\Local\\Temp\\ipykernel_8616\\3681083358.py\u001b[0m in \u001b[0;36m<module>\u001b[1;34m\u001b[0m\n\u001b[1;32m----> 1\u001b[1;33m \u001b[0mm1\u001b[0m\u001b[1;33m*\u001b[0m\u001b[0mm4\u001b[0m\u001b[1;33m\u001b[0m\u001b[0m\n\u001b[0m",
      "\u001b[1;32mC:\\Program Files\\Python37\\lib\\site-packages\\numpy\\matrixlib\\defmatrix.py\u001b[0m in \u001b[0;36m__mul__\u001b[1;34m(self, other)\u001b[0m\n\u001b[0;32m    216\u001b[0m         \u001b[1;32mif\u001b[0m \u001b[0misinstance\u001b[0m\u001b[1;33m(\u001b[0m\u001b[0mother\u001b[0m\u001b[1;33m,\u001b[0m \u001b[1;33m(\u001b[0m\u001b[0mN\u001b[0m\u001b[1;33m.\u001b[0m\u001b[0mndarray\u001b[0m\u001b[1;33m,\u001b[0m \u001b[0mlist\u001b[0m\u001b[1;33m,\u001b[0m \u001b[0mtuple\u001b[0m\u001b[1;33m)\u001b[0m\u001b[1;33m)\u001b[0m \u001b[1;33m:\u001b[0m\u001b[1;33m\u001b[0m\u001b[0m\n\u001b[0;32m    217\u001b[0m             \u001b[1;31m# This promotes 1-D vectors to row vectors\u001b[0m\u001b[1;33m\u001b[0m\u001b[1;33m\u001b[0m\u001b[0m\n\u001b[1;32m--> 218\u001b[1;33m             \u001b[1;32mreturn\u001b[0m \u001b[0mN\u001b[0m\u001b[1;33m.\u001b[0m\u001b[0mdot\u001b[0m\u001b[1;33m(\u001b[0m\u001b[0mself\u001b[0m\u001b[1;33m,\u001b[0m \u001b[0masmatrix\u001b[0m\u001b[1;33m(\u001b[0m\u001b[0mother\u001b[0m\u001b[1;33m)\u001b[0m\u001b[1;33m)\u001b[0m\u001b[1;33m\u001b[0m\u001b[0m\n\u001b[0m\u001b[0;32m    219\u001b[0m         \u001b[1;32mif\u001b[0m \u001b[0misscalar\u001b[0m\u001b[1;33m(\u001b[0m\u001b[0mother\u001b[0m\u001b[1;33m)\u001b[0m \u001b[1;32mor\u001b[0m \u001b[1;32mnot\u001b[0m \u001b[0mhasattr\u001b[0m\u001b[1;33m(\u001b[0m\u001b[0mother\u001b[0m\u001b[1;33m,\u001b[0m \u001b[1;34m'__rmul__'\u001b[0m\u001b[1;33m)\u001b[0m \u001b[1;33m:\u001b[0m\u001b[1;33m\u001b[0m\u001b[0m\n\u001b[0;32m    220\u001b[0m             \u001b[1;32mreturn\u001b[0m \u001b[0mN\u001b[0m\u001b[1;33m.\u001b[0m\u001b[0mdot\u001b[0m\u001b[1;33m(\u001b[0m\u001b[0mself\u001b[0m\u001b[1;33m,\u001b[0m \u001b[0mother\u001b[0m\u001b[1;33m)\u001b[0m\u001b[1;33m\u001b[0m\u001b[0m\n",
      "\u001b[1;32m<__array_function__ internals>\u001b[0m in \u001b[0;36mdot\u001b[1;34m(*args, **kwargs)\u001b[0m\n",
      "\u001b[1;31mValueError\u001b[0m: shapes (2,3) and (2,3) not aligned: 3 (dim 1) != 2 (dim 0)"
     ]
    }
   ],
   "source": [
    "m1*m4"
   ]
  },
  {
   "cell_type": "code",
   "execution_count": 28,
   "id": "2f749c6c",
   "metadata": {},
   "outputs": [
    {
     "data": {
      "text/plain": [
       "matrix([[22, 28],\n",
       "        [49, 64]])"
      ]
     },
     "execution_count": 28,
     "metadata": {},
     "output_type": "execute_result"
    }
   ],
   "source": [
    "m5 = np.asmatrix([[1,2],[3, 4],[5,6]])\n",
    "m5\n",
    "m1*m5"
   ]
  },
  {
   "cell_type": "markdown",
   "id": "f795a0eb",
   "metadata": {},
   "source": [
    "#### 2. 矩阵对象的属性\n",
    "    | 属性    | 说明                                      |\n",
    "    | ------- | ----------------------------------------- |\n",
    "    | `A`     | 获取矩阵对象对应的`ndarray`对象           |\n",
    "    | `A1`    | 获取矩阵对象对应的扁平化后的`ndarray`对象 |\n",
    "    | `I`     | 可逆矩阵的逆矩阵                          |\n",
    "    | `T`     | 矩阵的转置                                |\n",
    "    | `H`     | 矩阵的共轭转置                            |\n",
    "    | `shape` | 矩阵的形状                                |\n",
    "    | `size`  | 矩阵元素的个数                            |"
   ]
  },
  {
   "cell_type": "code",
   "execution_count": 35,
   "id": "eae91b66",
   "metadata": {},
   "outputs": [
    {
     "name": "stdout",
     "output_type": "stream",
     "text": [
      "[[1 2]\n",
      " [3 4]\n",
      " [5 6]]\n",
      "[1 2 3 4 5 6]\n",
      "[[-1.33333333 -0.33333333  0.66666667]\n",
      " [ 1.08333333  0.33333333 -0.41666667]]\n",
      "[[1 3 5]\n",
      " [2 4 6]]\n",
      "[[1 3 5]\n",
      " [2 4 6]]\n",
      "(3, 2)\n",
      "6\n"
     ]
    }
   ],
   "source": [
    "print(m5.A)\n",
    "print(m5.A1)\n",
    "print(m5.I)\n",
    "print(m5.T)\n",
    "print(m5.H)\n",
    "print(m5.shape)\n",
    "print(m5.size)"
   ]
  },
  {
   "cell_type": "markdown",
   "id": "15e31d4b",
   "metadata": {},
   "source": [
    "#### 2. 矩阵对象的方法\n",
    "矩阵对象的方法跟之前讲过的`ndarray`数组对象的方法基本差不多，此处不再进行赘述。\n",
    "\n",
    "#### NumPy的线性代数模块\n",
    "\n",
    "NumPy 的`linalg`模块中有一组标准的矩阵分解运算以及诸如求逆和行列式之类的函数，它们跟 MATLAB 和 R 等语言所使用的是相同的行业标准线性代数库，下面的表格列出了`numpy`以及`linalg`模块中常用的跟线性代数相关的函数。\n",
    "\n",
    "| 函数            | 说明                                                         |\n",
    "| --------------- | ------------------------------------------------------------ |\n",
    "| `diag`          | 以一维数组的形式返回方阵的对角线元素或将一维数组转换为方阵（非对角元素元素为0） |\n",
    "| `vdot` | 向量的点积                                      |\n",
    "| `dot`  | 数组的点积                                      |\n",
    "| `inner`  | 数组的内积                                      |\n",
    "| `outer`  | 数组的叉积                                      |\n",
    "| `trace`         | 计算对角线元素的和                                           |\n",
    "| `norm`  | 求模（范数）运算                                  |\n",
    "| `det`           | 计算行列式的值（在方阵上计算会得到一个标量）             |\n",
    "| `matrix_rank`   | 计算矩阵的秩                                      |\n",
    "| `eig`           | 计算矩阵的特征值（eigenvalue）和特征向量（eigenvector）      |\n",
    "| `inv`           | 计算非奇异矩阵（$n$阶方阵）的逆矩阵                          |\n",
    "| `pinv`          | 计算矩阵的摩尔-彭若斯（Moore-Penrose）广义逆                 |\n",
    "| `qr`            | QR分解（把矩阵分解成一个正交矩阵与一个上三角矩阵的积）       |\n",
    "| `svd`           | 计算奇异值分解（singular value decomposition）               |\n",
    "| `solve`         | 解线性方程组$\\boldsymbol{A}\\boldsymbol{x}=\\boldsymbol{b}$，其中$\\boldsymbol{A}$是一个方阵 |\n",
    "| `lstsq`         | 计算$\\boldsymbol{A}\\boldsymbol{x}=\\boldsymbol{b}$的最小二乘解 |\n",
    "\n",
    "大家如果有兴趣可以用下面的代码验证上面的函数"
   ]
  },
  {
   "cell_type": "code",
   "execution_count": 68,
   "id": "c142dbfe",
   "metadata": {},
   "outputs": [
    {
     "name": "stdout",
     "output_type": "stream",
     "text": [
      "[[1 4 3]\n",
      " [4 1 6]\n",
      " [7 3 9]]\n",
      "-------------\n",
      "[[2 3 1]\n",
      " [1 5 2]\n",
      " [4 2 3]]\n",
      "-------------\n",
      "[[1 1 9]]\n",
      "-------------\n",
      "[[2]]\n",
      "[[18 29 18]\n",
      " [33 29 24]\n",
      " [53 54 40]]\n",
      "-------------\n",
      "[[18 29 18]\n",
      " [33 29 24]\n",
      " [53 54 40]]\n",
      "-------------\n",
      "[[17 27 21]\n",
      " [17 21 36]\n",
      " [32 40 61]]\n",
      "-------------\n",
      "[[ 2  3  1  1  5  2  4  2  3]\n",
      " [ 8 12  4  4 20  8 16  8 12]\n",
      " [ 6  9  3  3 15  6 12  6  9]\n",
      " [ 8 12  4  4 20  8 16  8 12]\n",
      " [ 2  3  1  1  5  2  4  2  3]\n",
      " [12 18  6  6 30 12 24 12 18]\n",
      " [14 21  7  7 35 14 28 14 21]\n",
      " [ 6  9  3  3 15  6 12  6  9]\n",
      " [18 27  9  9 45 18 36 18 27]]\n",
      "-------------\n",
      "11\n",
      "-------------\n",
      "30.000000000000014\n",
      "-------------\n",
      "3\n",
      "-------------\n",
      "(array([13.77214063+0.j        , -1.38607032+0.50706971j,\n",
      "       -1.38607032-0.50706971j]), matrix([[ 0.34105361+0.j        ,  0.82708144+0.j        ,\n",
      "          0.82708144-0.j        ],\n",
      "        [ 0.48508162+0.j        , -0.09945033+0.15839246j,\n",
      "         -0.09945033-0.15839246j],\n",
      "        [ 0.80521938+0.j        , -0.52522438-0.07139397j,\n",
      "         -0.52522438+0.07139397j]]))\n",
      "-------------\n",
      "[[ 1.00000000e+00  2.22044605e-16 -2.77555756e-16]\n",
      " [-1.66533454e-16  1.00000000e+00 -5.55111512e-16]\n",
      " [-1.38777878e-16  2.22044605e-16  1.00000000e+00]]\n",
      "-------------\n",
      "(matrix([[-0.12309149,  0.97789419, -0.16903085],\n",
      "        [-0.49236596, -0.20806259, -0.84515425],\n",
      "        [-0.86164044, -0.02080626,  0.50709255]]), matrix([[ -8.1240384 ,  -3.56965324, -11.07823419],\n",
      "        [  0.        ,   3.64109541,   1.49805068],\n",
      "        [  0.        ,   0.        ,  -1.01418511]]))\n",
      "-------------\n"
     ]
    },
    {
     "ename": "TypeError",
     "evalue": "_solve_dispatcher() missing 1 required positional argument: 'b'",
     "output_type": "error",
     "traceback": [
      "\u001b[1;31m---------------------------------------------------------------------------\u001b[0m",
      "\u001b[1;31mTypeError\u001b[0m                                 Traceback (most recent call last)",
      "\u001b[1;32m~\\AppData\\Local\\Temp\\ipykernel_8616\\3262384366.py\u001b[0m in \u001b[0;36m<module>\u001b[1;34m\u001b[0m\n\u001b[0;32m     38\u001b[0m \u001b[0mprint\u001b[0m\u001b[1;33m(\u001b[0m\u001b[0mnp\u001b[0m\u001b[1;33m.\u001b[0m\u001b[0mlinalg\u001b[0m\u001b[1;33m.\u001b[0m\u001b[0mqr\u001b[0m\u001b[1;33m(\u001b[0m\u001b[0mm6\u001b[0m\u001b[1;33m)\u001b[0m\u001b[1;33m)\u001b[0m\u001b[1;33m\u001b[0m\u001b[0m\n\u001b[0;32m     39\u001b[0m \u001b[0mprint\u001b[0m\u001b[1;33m(\u001b[0m\u001b[1;34m'-------------'\u001b[0m\u001b[1;33m)\u001b[0m\u001b[1;33m\u001b[0m\u001b[0m\n\u001b[1;32m---> 40\u001b[1;33m \u001b[0mprint\u001b[0m\u001b[1;33m(\u001b[0m\u001b[0mnp\u001b[0m\u001b[1;33m.\u001b[0m\u001b[0mlinalg\u001b[0m\u001b[1;33m.\u001b[0m\u001b[0msolve\u001b[0m\u001b[1;33m(\u001b[0m\u001b[0mm6\u001b[0m\u001b[1;33m)\u001b[0m\u001b[1;33m)\u001b[0m\u001b[1;33m\u001b[0m\u001b[0m\n\u001b[0m",
      "\u001b[1;32m<__array_function__ internals>\u001b[0m in \u001b[0;36msolve\u001b[1;34m(*args, **kwargs)\u001b[0m\n",
      "\u001b[1;31mTypeError\u001b[0m: _solve_dispatcher() missing 1 required positional argument: 'b'"
     ]
    }
   ],
   "source": [
    "m6 = np.matrix(np.array([\n",
    "    [1,4,3],\n",
    "    [4,1,6],\n",
    "    [7,3,9]\n",
    "]))\n",
    "\n",
    "m7 = np.matrix(np.array([\n",
    "    [2,3,1],\n",
    "    [1,5,2],\n",
    "    [4,2,3]\n",
    "]))\n",
    "\n",
    "print(m6)\n",
    "print('-------------')\n",
    "print(m7)\n",
    "print('-------------')\n",
    "print(m6.diagonal())\n",
    "print('-------------')\n",
    "print(np.vdot(m6, m7))\n",
    "print(m6*m7)\n",
    "print('-------------')\n",
    "print(np.dot(m6, m7))\n",
    "print('-------------')\n",
    "print(np.inner(m6, m7))\n",
    "print('-------------')\n",
    "print(np.outer(m6, m7))\n",
    "print('-------------')\n",
    "print(np.trace(m6))\n",
    "print('-------------')\n",
    "print(np.linalg.det(m6))\n",
    "print('-------------')\n",
    "print(np.linalg.matrix_rank(m6))\n",
    "print('-------------')\n",
    "print(np.linalg.eig(m6))\n",
    "print('-------------')\n",
    "print(m6*np.linalg.inv(m6))\n",
    "print('-------------')\n",
    "print(np.linalg.qr(m6))"
   ]
  },
  {
   "cell_type": "code",
   "execution_count": 69,
   "id": "cbf55ba4",
   "metadata": {},
   "outputs": [
    {
     "data": {
      "text/plain": [
       "array([2., 3.])"
      ]
     },
     "execution_count": 69,
     "metadata": {},
     "output_type": "execute_result"
    }
   ],
   "source": [
    "# 解线性方程组ax=b\n",
    "# 3x + y = 9，x + 2y = 8\n",
    "a = np.array([[3,1], [1,2]])\n",
    "b = np.array([9, 8])\n",
    "np.linalg.solve(a, b)"
   ]
  },
  {
   "cell_type": "code",
   "execution_count": null,
   "id": "17d85837",
   "metadata": {},
   "outputs": [],
   "source": []
  }
 ],
 "metadata": {
  "kernelspec": {
   "display_name": "Python 3 (ipykernel)",
   "language": "python",
   "name": "python3"
  },
  "language_info": {
   "codemirror_mode": {
    "name": "ipython",
    "version": 3
   },
   "file_extension": ".py",
   "mimetype": "text/x-python",
   "name": "python",
   "nbconvert_exporter": "python",
   "pygments_lexer": "ipython3",
   "version": "3.7.0"
  }
 },
 "nbformat": 4,
 "nbformat_minor": 5
}
